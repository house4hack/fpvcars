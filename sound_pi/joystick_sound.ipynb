{
 "cells": [
  {
   "cell_type": "code",
   "execution_count": null,
   "metadata": {},
   "outputs": [],
   "source": [
    "import serial\n",
    "ser = serial.Serial('/dev/ttyACM0',115200)  # open serial port\n",
    "print(ser.name)         # check which port was really used\n",
    "  "
   ]
  },
  {
   "cell_type": "code",
   "execution_count": null,
   "metadata": {
    "collapsed": true
   },
   "outputs": [],
   "source": [
    "from psonic import *\n",
    "import json\n",
    "import time"
   ]
  },
  {
   "cell_type": "code",
   "execution_count": null,
   "metadata": {},
   "outputs": [],
   "source": [
    "while True:\n",
    "    try:\n",
    "        while ser.in_waiting:\n",
    "            d =  json.loads(ser.readline())\n",
    "        sample(\"~/Downloads/51745__erkanozan__bubbles.wav\",rate=1, pan=d['x']/512)\n",
    "        #play(72, pan=d['x']/512)\n",
    "        sleep(1)\n",
    "        #time.sleep(1)\n",
    "        \n",
    "        #print(d)\n",
    "    except Exception:\n",
    "        pass\n",
    "    \n"
   ]
  },
  {
   "cell_type": "code",
   "execution_count": null,
   "metadata": {
    "collapsed": true
   },
   "outputs": [],
   "source": []
  },
  {
   "cell_type": "code",
   "execution_count": null,
   "metadata": {},
   "outputs": [],
   "source": [
    "s = play(72, pan=1, release=5)\n",
    "sleep(0.5)\n",
    "dir(s)\n",
    "#sample(LOOP_AMEN,rate=2)"
   ]
  },
  {
   "cell_type": "code",
   "execution_count": null,
   "metadata": {},
   "outputs": [],
   "source": [
    "import random\n",
    "while True:\n",
    "    sample(\"/home/schalk/tmp/boat1.wav\",rate=0.999, pan=random.random()-0.5,amp=0.5 )\n",
    "    sleep(1)"
   ]
  },
  {
   "cell_type": "code",
   "execution_count": null,
   "metadata": {
    "collapsed": true
   },
   "outputs": [],
   "source": [
    "stop()"
   ]
  },
  {
   "cell_type": "code",
   "execution_count": 1,
   "metadata": {},
   "outputs": [],
   "source": [
    "import pygame\n",
    "from time import sleep\n",
    "pygame.init()\n",
    "pygame.joystick.init()\n",
    "joysticks = [pygame.joystick.Joystick(x) for x in range(pygame.joystick.get_count())]\n",
    "joysticks[0].init()\n",
    "from pygame import mixer\n",
    "mixer.pre_init(44100, -16, 8, 2048)"
   ]
  },
  {
   "cell_type": "code",
   "execution_count": 33,
   "metadata": {
    "scrolled": true
   },
   "outputs": [
    {
     "name": "stdout",
     "output_type": "stream",
     "text": [
      "2.323757182898234e-06\n",
      "7.99368932158373e-06\n",
      "2.4829677984783416e-06\n",
      "4.456713930678369e-06\n",
      "4.758027191908987e-06\n",
      "8.596561055784768e-06\n"
     ]
    }
   ],
   "source": [
    "\n",
    "import random\n",
    "# pygame.init()\n",
    "mixer.init()\n",
    "mixer.music.load(\"/home/schalk/Downloads/Underwater Bubbles Sound - Meditation White Noise Relaxation.mp3\")\n",
    "mixer.music.play(-1)\n",
    "#sleep(10)\n",
    "sound = mixer.Sound(\"/home/schalk/tmp/boat1.wav\")\n",
    "torpedo = mixer.Sound(\"/home/schalk/Downloads/Torpedo Launching Sub-SoundBible.com-618051175.wav\")\n",
    "sonar = mixer.Sound(\"/home/schalk/tmp/sonar_ping.wav\")\n",
    "mixer.Channel(0).play(sound,-1)\n",
    "\n",
    "last_sonar = 0\n",
    "next_sonar = time.time() + random.random()*30\n",
    "\n",
    "try:\n",
    "    while True:\n",
    "        pygame.event.pump()\n",
    "        x = (joysticks[0].get_axis(0))\n",
    "        y = (joysticks[0].get_axis(1))\n",
    "        z = (joysticks[0].get_axis(2))\n",
    "        amp = abs(y)\n",
    "        \n",
    "        px = (max(0,amp-x))*0.3+0.01\n",
    "        py = (max(0,amp+x))*0.3+0.01\n",
    "        mixer.Channel(0).set_volume(px, py)\n",
    "        \n",
    "\n",
    "        if time.time() > next_sonar:\n",
    "            if(mixer.Channel(1).get_busy()==0):\n",
    "                mixer.Channel(1).set_volume(random.random()*0.5, random.random()*0.5)\n",
    "                mixer.Channel(1).play(sonar)\n",
    "            next_sonar = time.time() + random.random()*30\n",
    "        \n",
    "        \n",
    "        if(joysticks[0].get_button(0)==1):\n",
    "            if(mixer.Channel(1).get_busy()==0):\n",
    "                mixer.Channel(1).play(torpedo)\n",
    "except KeyboardInterrupt:\n",
    "    sound.stop()\n",
    "    sonar.stop()\n",
    "    mixer.music.stop()\n"
   ]
  },
  {
   "cell_type": "code",
   "execution_count": null,
   "metadata": {},
   "outputs": [],
   "source": [
    "_joystick = joysticks[0]\n",
    "print (_joystick.get_init())\n",
    "print (_joystick.get_id())\n",
    "print (_joystick.get_name())\n",
    "print (_joystick.get_numaxes())\n",
    "print (_joystick.get_numballs())\n",
    "print (_joystick.get_numbuttons())\n",
    "print (_joystick.get_numhats())\n",
    "print (_joystick.get_axis(0))\n"
   ]
  },
  {
   "cell_type": "code",
   "execution_count": null,
   "metadata": {},
   "outputs": [],
   "source": [
    "for i in range(4):\n",
    "    pygame.event.pump()\n",
    "    print(i,_joystick.get_axis(i))"
   ]
  },
  {
   "cell_type": "code",
   "execution_count": 5,
   "metadata": {},
   "outputs": [],
   "source": [
    "mixer.music.stop()\n"
   ]
  },
  {
   "cell_type": "code",
   "execution_count": 30,
   "metadata": {},
   "outputs": [
    {
     "data": {
      "text/plain": [
       "0.9737425277387923"
      ]
     },
     "execution_count": 30,
     "metadata": {},
     "output_type": "execute_result"
    }
   ],
   "source": [
    "random.random()\n"
   ]
  },
  {
   "cell_type": "code",
   "execution_count": null,
   "metadata": {},
   "outputs": [],
   "source": []
  }
 ],
 "metadata": {
  "kernelspec": {
   "display_name": "Python 3",
   "language": "python",
   "name": "python3"
  },
  "language_info": {
   "codemirror_mode": {
    "name": "ipython",
    "version": 3
   },
   "file_extension": ".py",
   "mimetype": "text/x-python",
   "name": "python",
   "nbconvert_exporter": "python",
   "pygments_lexer": "ipython3",
   "version": "3.6.1"
  }
 },
 "nbformat": 4,
 "nbformat_minor": 2
}
