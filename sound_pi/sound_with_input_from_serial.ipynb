{
 "cells": [
  {
   "cell_type": "code",
   "execution_count": 3,
   "metadata": {
    "collapsed": true
   },
   "outputs": [],
   "source": [
    "# Generate fake serial message to simulate Arduino\n",
    "\n",
    "import os, pty, serial\n",
    "import random\n",
    "import thread\n",
    "\n",
    "def init_fake_serial():\n",
    "    master, slave = pty.openpty()\n",
    "    s_name = os.ttyname(slave)\n",
    "\n",
    "    return master, s_name\n",
    "\n",
    "\n",
    "\n",
    "def fake_messages(master):\n",
    "    while True:\n",
    "        if random.random()<0.05:\n",
    "            button_rand = 1\n",
    "        else:\n",
    "            button_rand = 0\n",
    "        os.write(master,'{\"x\":%d,\"Y\":%d,\"Z\":%d,\"button\":%d}\\n' % (random.randint(-512,512),random.randint(-512,512),random.randint(-512,512), button_rand))\n",
    "        time.sleep(1)\n",
    "\n",
    "\n",
    "def start_fake_messages():\n",
    "    master, fake_port = init_fake_serial()\n",
    "    thread.start_new_thread(fake_messages, (master,))\n",
    "    return(fake_port)\n",
    "\n",
    "\n"
   ]
  },
  {
   "cell_type": "code",
   "execution_count": 1,
   "metadata": {
    "collapsed": true
   },
   "outputs": [],
   "source": [
    "def find_serial(use_fake_port=False):\n",
    "    if use_fake_port:\n",
    "        return(start_fake_messages())\n",
    "    else:\n",
    "        portlist = glob.glob(\"/dev/ttyACM*\")\n",
    "        if(len(portlist)>0):\n",
    "            return(portlist[0])\n",
    "        else:\n",
    "            return(default_port)\n",
    "    \n"
   ]
  },
  {
   "cell_type": "code",
   "execution_count": 28,
   "metadata": {
    "collapsed": true
   },
   "outputs": [],
   "source": [
    "import pygame\n",
    "from pygame import mixer\n",
    "import json\n",
    "import time\n",
    "import serial\n",
    "import glob\n",
    "import random\n",
    "\n",
    "sound_dir = \"/home/schalk/tmp/\"\n",
    "port = '/dev/ttyACM0'\n",
    "BACKGROUND = sound_dir+\"Underwater Bubbles Sound - Meditation White Noise Relaxation.mp3\"\n",
    "BOAT= sound_dir + \"boat1.wav\"\n",
    "SONAR= sound_dir+\"sonar_ping.wav\"\n",
    "TORPEDO= sound_dir + \"Torpedo Launching Sub-SoundBible.com-618051175.wav\""
   ]
  },
  {
   "cell_type": "code",
   "execution_count": 33,
   "metadata": {},
   "outputs": [],
   "source": [
    "class Sound_effect(object):\n",
    "    def __init__(self, source, channel, mixer):\n",
    "        self.source = source\n",
    "        self.sound = mixer.Sound(source)\n",
    "        self.channel = channel\n",
    "        self.mixer = mixer\n",
    "        \n",
    "    def play(self, controls):\n",
    "        self.sound.play()\n",
    "    \n",
    "    def stop(self):\n",
    "        self.sound.stop()\n",
    "    \n",
    "class Boat(Sound_effect):\n",
    "    def __init__(self, source, channel, mixer):\n",
    "        super(Boat, self).__init__(source, channel, mixer)\n",
    "        mixer.Channel(self.channel).play(self.sound,-1)\n",
    "    \n",
    "    def play(self, controls):\n",
    "        x = controls['X']/1023.0 + 0.5\n",
    "        y = controls['Y']/1023.0 + 0.5\n",
    "        z = controls['Z']/1023.0 + 0.5\n",
    "        button = controls['button']\n",
    "        self.mixer.Channel(self.channel).set_volume(1-x,1-y)\n",
    "        \n",
    "class Torpedo(Sound_effect):\n",
    "    def play(self, controls):\n",
    "        if controls['button']==1:\n",
    "            if(self.mixer.Channel(self.channel).get_busy()==0):\n",
    "                self.mixer.Channel(self.channel).play(self.sound)\n",
    "                \n",
    "\n",
    "class Sonar(Sound_effect):\n",
    "    def __init__(self, source, channel, mixer):\n",
    "        super(Sonar, self).__init__(source, channel, mixer)\n",
    "        self.next_play = 0\n",
    "\n",
    "    def play(self, controls):\n",
    "        if(time.time()>self.next_play):\n",
    "            if(self.mixer.Channel(self.channel).get_busy()==0):\n",
    "                self.mixer.Channel(self.channel).play(self.sound)\n",
    "            self.next_play = random.randint(15,60) + time.time()\n",
    "       "
   ]
  },
  {
   "cell_type": "code",
   "execution_count": 30,
   "metadata": {
    "collapsed": true
   },
   "outputs": [],
   "source": [
    "def init_sound():\n",
    "    mixer.pre_init(44100, -16, 8, 2048)\n",
    "    mixer.init()\n",
    "    mixer.music.load(BACKGROUND)\n"
   ]
  },
  {
   "cell_type": "code",
   "execution_count": 31,
   "metadata": {
    "collapsed": true
   },
   "outputs": [],
   "source": [
    "\n",
    "def process_sound(effect_arr, playbackground, ser):\n",
    "    if playbackground:\n",
    "        mixer.music.play(-1)\n",
    "    try:\n",
    "        while True:\n",
    "            d = None\n",
    "            while ser.in_waiting:\n",
    "                try:\n",
    "                    d =  json.loads(ser.readline())\n",
    "                except Exception as e:\n",
    "                    print(e)\n",
    "            if not d == None:\n",
    "                for effect in effect_arr:\n",
    "                    effect.play(d)\n",
    "\n",
    "    except KeyboardInterrupt:\n",
    "        for effect in effect_arr:\n",
    "            effect.stop()\n",
    "        mixer.music.stop()\n"
   ]
  },
  {
   "cell_type": "code",
   "execution_count": 34,
   "metadata": {},
   "outputs": [
    {
     "name": "stdout",
     "output_type": "stream",
     "text": [
      "/dev/ttyACM0\n"
     ]
    }
   ],
   "source": [
    "port = find_serial(use_fake_port=False)\n",
    "ser = serial.Serial(port,115200)  # open serial port\n",
    "print(ser.name)\n",
    "\n",
    "init_sound()\n",
    "boat = Boat(BOAT, 0, mixer)\n",
    "torpedo = Torpedo(TORPEDO, 1, mixer)\n",
    "sonar = Sonar(SONAR,2,mixer)\n",
    "\n",
    "process_sound([boat, torpedo, sonar], False, ser)"
   ]
  },
  {
   "cell_type": "code",
   "execution_count": 26,
   "metadata": {
    "collapsed": true
   },
   "outputs": [],
   "source": [
    "boat.stop()"
   ]
  },
  {
   "cell_type": "code",
   "execution_count": 27,
   "metadata": {
    "collapsed": true
   },
   "outputs": [],
   "source": [
    "sonar.stop()"
   ]
  },
  {
   "cell_type": "code",
   "execution_count": null,
   "metadata": {
    "collapsed": true
   },
   "outputs": [],
   "source": []
  }
 ],
 "metadata": {
  "kernelspec": {
   "display_name": "Python 3",
   "language": "python",
   "name": "python3"
  },
  "language_info": {
   "codemirror_mode": {
    "name": "ipython",
    "version": 3
   },
   "file_extension": ".py",
   "mimetype": "text/x-python",
   "name": "python",
   "nbconvert_exporter": "python",
   "pygments_lexer": "ipython3",
   "version": "3.6.1"
  }
 },
 "nbformat": 4,
 "nbformat_minor": 2
}
